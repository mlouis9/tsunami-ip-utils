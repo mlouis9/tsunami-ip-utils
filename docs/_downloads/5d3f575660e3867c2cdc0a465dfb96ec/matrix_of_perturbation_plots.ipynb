{
  "cells": [
    {
      "cell_type": "markdown",
      "metadata": {},
      "source": [
        "\n# Matrix of Perturbation Plots\nThis example demonstrates how to generate a matrix plot of perturbation plots for each application and experiment. This is useful\n"
      ]
    }
  ],
  "metadata": {
    "kernelspec": {
      "display_name": "Python 3",
      "language": "python",
      "name": "python3"
    },
    "language_info": {
      "codemirror_mode": {
        "name": "ipython",
        "version": 3
      },
      "file_extension": ".py",
      "mimetype": "text/x-python",
      "name": "python",
      "nbconvert_exporter": "python",
      "pygments_lexer": "ipython3",
      "version": "3.11.9"
    }
  },
  "nbformat": 4,
  "nbformat_minor": 0
}