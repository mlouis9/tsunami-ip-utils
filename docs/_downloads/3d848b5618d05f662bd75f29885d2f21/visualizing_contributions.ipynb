{
  "cells": [
    {
      "cell_type": "markdown",
      "metadata": {},
      "source": [
        "\n# Visualizing Contributions\n\nThis example illustrates the use of the various tools for visualizing contributions to a TSUNAMI-IP integral index (such as\n$E$, or even contributions to $(\\Delta k/k)^2$). This example shows the visualization of $(\\Delta k/k)^2$ contributions,\nbut the same tools can be used for visualizing contributions to $E$.\n"
      ]
    },
    {
      "cell_type": "markdown",
      "metadata": {},
      "source": [
        "## Isotope-Wise Contributions\nFirst, we demonstrate the tools for visualizing `isotope-wise` contributions to the nuclear data induced variance, \n$(\\Delta k/k)^2$. First we need to get the contributions (further details are provided in\n`sphx_glr_auto_examples_uncertainty_contributions.py`). Note that visualizing the contributions to the nuclear data\ninduced `uncertainty` with these tools will produce visually misleading plots, as the uncertainty contributions don't\nadd to the total nuclear data induced uncertainty, so their representation in a pie chart is dubious, and in certain cases\ncauses the reaction-wise plots to have incorrect nuclide-wise totals.\n\n"
      ]
    },
    {
      "cell_type": "code",
      "execution_count": null,
      "metadata": {
        "collapsed": false
      },
      "outputs": [],
      "source": [
        "from tsunami_ip_utils.integral_indices import get_uncertainty_contributions\nfrom paths import EXAMPLES\n\napplication_filenames = [ f\"{EXAMPLES}/data/example_sdfs/MCT/MIX-COMP-THERM-001-001.sdf\" ]\nuncertainty_contributions_nuclide, uncertainty_contributions_nuclide_reaction = \\\n      get_uncertainty_contributions(application_filenames, variance=True)"
      ]
    },
    {
      "cell_type": "markdown",
      "metadata": {},
      "source": [
        "The isotope-wise contributions can be plotted using the :func:`tsunami_ip_utils.viz.contribution_plot` function.\nThis function takes a contribution list and creates a plot of the specified type. First, we must extract a list of\ncontributions for a specific application from the :func:`tsunami_ip_utils.integral_indices.get_uncertainty_contributions`\noutput.\n\n"
      ]
    },
    {
      "cell_type": "code",
      "execution_count": null,
      "metadata": {
        "collapsed": false
      },
      "outputs": [],
      "source": [
        "contributions = uncertainty_contributions_nuclide['application'][0]"
      ]
    },
    {
      "cell_type": "markdown",
      "metadata": {},
      "source": [
        "### Bar Chart\nThe contributions can then be plotted as a matplotlib bar chart.\n\n"
      ]
    },
    {
      "cell_type": "code",
      "execution_count": null,
      "metadata": {
        "collapsed": false
      },
      "outputs": [],
      "source": [
        "from tsunami_ip_utils.viz.viz import contribution_plot\nimport matplotlib.pyplot as plt\n\nfig, axs = contribution_plot(contributions, plot_type='bar',integral_index_name='$(\\\\Delta k/k)^2$')\nplt.tight_layout()\nplt.show()"
      ]
    },
    {
      "cell_type": "markdown",
      "metadata": {},
      "source": [
        "### Pie Chart\nThe contributions can also be plotted as a matplotlib pie chart.\n\n"
      ]
    },
    {
      "cell_type": "code",
      "execution_count": null,
      "metadata": {
        "collapsed": false
      },
      "outputs": [],
      "source": [
        "fig, axs = contribution_plot(contributions, plot_type='pie',integral_index_name='$(\\\\Delta k/k)^2$')\nplt.tight_layout()\nplt.show()"
      ]
    },
    {
      "cell_type": "markdown",
      "metadata": {},
      "source": [
        "### Interactive Pie Chart\nThe contributions can also be plotted as an interactive plotly pie chart.\n\n"
      ]
    },
    {
      "cell_type": "code",
      "execution_count": null,
      "metadata": {
        "collapsed": false
      },
      "outputs": [],
      "source": [
        "fig = contribution_plot(contributions, plot_type='interactive_pie', integral_index_name='(\u0394k/k)^2', interactive_legend=False)\nfig.show()"
      ]
    },
    {
      "cell_type": "markdown",
      "metadata": {},
      "source": [
        "### Interactive Pie Chart With Interactive Legend\nThe contributions can also be plotted as an interactive plotly pie chart with an interactive legend. This feature has\nyet to be formally implemented in Plotly Express (although an issue is open [here](https://github.com/plotly/plotly.py/issues/4692) ).\n\n"
      ]
    },
    {
      "cell_type": "code",
      "execution_count": null,
      "metadata": {
        "collapsed": false
      },
      "outputs": [],
      "source": [
        "fig = contribution_plot(contributions, plot_type='interactive_pie', integral_index_name='(\u0394k/k)^2', interactive_legend=True)\nfig.show()"
      ]
    },
    {
      "cell_type": "markdown",
      "metadata": {},
      "source": [
        "Note that inner wedges in the pie chart (which may be difficult to select or see manually) can be selected by clicking on the\ncorresponding legend entry. This will highlight the corresponding wedge in the pie chart.\n\n"
      ]
    },
    {
      "cell_type": "markdown",
      "metadata": {},
      "source": [
        "## Reaction-Wise Contributions\nThe isotope-reaction-wise contributions can be plotted similarly.\n\n"
      ]
    },
    {
      "cell_type": "markdown",
      "metadata": {},
      "source": [
        "### Bar Chart\n\n"
      ]
    },
    {
      "cell_type": "code",
      "execution_count": null,
      "metadata": {
        "collapsed": false
      },
      "outputs": [],
      "source": [
        "contributions = uncertainty_contributions_nuclide_reaction['application'][0]\n\nfig, axs = contribution_plot(contributions, plot_type='bar',integral_index_name='$(\\\\Delta k/k)^2$')\nplt.tight_layout()\nplt.show()"
      ]
    },
    {
      "cell_type": "markdown",
      "metadata": {},
      "source": [
        "Note that, in this case, since the reaction wise contributions aren't strictly positive (the isotope-wise contributions\naren't either for dissimilar nuclides, but this example only contains like nuclide covariances), the bar chart displays \nnegative contributions `below` the x-axis and positive contributions `above` the x-axis. Then, to visualize how the \npositive and negative contributions cancel out, a hatched \"effective\" contribution box is displayed, which corresponds to \nthe isotope wise contribution.\n\n"
      ]
    },
    {
      "cell_type": "markdown",
      "metadata": {},
      "source": [
        "### Pie Chart\n\n"
      ]
    },
    {
      "cell_type": "code",
      "execution_count": null,
      "metadata": {
        "collapsed": false
      },
      "outputs": [],
      "source": [
        "fig, axs = contribution_plot(contributions, plot_type='pie',integral_index_name='$(\\\\Delta k/k)^2$')\nplt.tight_layout()\nplt.show()"
      ]
    },
    {
      "cell_type": "markdown",
      "metadata": {},
      "source": [
        "In the pie chart above, you can see that the isotope-wise contributions are on the inner ring, and the reaction-wise\ncontributions are on the outer ring. The `negative` (reaction-wise) contributions are hatched, and to demonstrate\nhow the positive and negative contributions cancel out, there is white space in the inner ring corresponding to the\ncontribution that was \"lost\" due to the cancellations.\n\n"
      ]
    },
    {
      "cell_type": "markdown",
      "metadata": {},
      "source": [
        "### Interactive Pie Chart\n\n"
      ]
    },
    {
      "cell_type": "code",
      "execution_count": null,
      "metadata": {
        "collapsed": false
      },
      "outputs": [],
      "source": [
        "fig = contribution_plot(contributions, plot_type='interactive_pie', integral_index_name='(\u0394k/k)^2', interactive_legend=False)\nfig.show()"
      ]
    },
    {
      "cell_type": "markdown",
      "metadata": {},
      "source": [
        "The interactive pie chart (a Plotly Express [sunburst chart](https://plotly.com/python/sunburst-charts/)) takes a different\napproach than the static (matplotlib) pie chart in the previous section. The contributions are delineated first by nuclide,\nthen within each nuclide, by wether the contribution is positive or negative (these wedges are weighted by the absolute value\nof the sum of the contributions of the respective sign) and finally by reaction. As with all Plotly Express sunburst\ncharts, clicking on a given wedge will zoom in on that wedge, and clicking on the center will zoom out - easily allowing\nthe user to explore contributions of interest.\n\n"
      ]
    },
    {
      "cell_type": "markdown",
      "metadata": {},
      "source": [
        "### Interactive Pie Chart With Interactive Legend\n\n"
      ]
    },
    {
      "cell_type": "code",
      "execution_count": null,
      "metadata": {
        "collapsed": false
      },
      "outputs": [],
      "source": [
        "fig = contribution_plot(contributions, plot_type='interactive_pie', integral_index_name='(\u0394k/k)^2', interactive_legend=True)\nfig.show()"
      ]
    },
    {
      "cell_type": "markdown",
      "metadata": {},
      "source": [
        "The interactive legend in this case serves more of a purpose, because the legend entries are clickable, and expand the\nreaction-wise contributions for a specific nuclide. This can be helpful if small contributions are of interest.\n"
      ]
    }
  ],
  "metadata": {
    "kernelspec": {
      "display_name": "Python 3",
      "language": "python",
      "name": "python3"
    },
    "language_info": {
      "codemirror_mode": {
        "name": "ipython",
        "version": 3
      },
      "file_extension": ".py",
      "mimetype": "text/x-python",
      "name": "python",
      "nbconvert_exporter": "python",
      "pygments_lexer": "ipython3",
      "version": "3.11.9"
    }
  },
  "nbformat": 4,
  "nbformat_minor": 0
}