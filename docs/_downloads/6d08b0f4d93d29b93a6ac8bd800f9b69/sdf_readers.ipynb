{
  "cells": [
    {
      "cell_type": "markdown",
      "metadata": {},
      "source": [
        "\n# SDF Readers\n\nThis demonstrates how to use the tools for reading [TSUNAMI-B](https://scale-manual.ornl.gov/tsunami-ip-appAB.html#format-of-tsunami-b-sensitivity-data-file)\nformatted Sensitivity Data Files (SDFs).\n"
      ]
    },
    {
      "cell_type": "markdown",
      "metadata": {},
      "source": [
        "## Reading .txt formatted .sdf files\n\n### Reading all SDF Profiles\nThere is a general class (:class:`tsunami_ip_utils.readers.SdfReader`) which reads all SDF profiles \n(including region-wise and region-integrated) profiles.\n\n"
      ]
    },
    {
      "cell_type": "code",
      "execution_count": null,
      "metadata": {
        "collapsed": false
      },
      "outputs": [],
      "source": [
        "from tsunami_ip_utils.readers import RegionIntegratedSdfReader, SdfReader\nfrom paths import EXAMPLES\n\ndata = SdfReader(f'{EXAMPLES}/data/example_sdfs/HMF/HEU-MET-FAST-003-001.sdf')"
      ]
    },
    {
      "cell_type": "markdown",
      "metadata": {},
      "source": [
        "This class has two attributes, :attr:`tsunami_ip_utils.readers.SdfReader.sdf_data` and \n:attr:`tsunami_ip_utils.readers.SdfReader.energy_boundaries` which represent the sdf data and the energy boundaries of the \nmultigroup structure (used to tally the senstivities), respectively. To access the data, use the ``sdf_data`` attribute.\n\n"
      ]
    },
    {
      "cell_type": "code",
      "execution_count": null,
      "metadata": {
        "collapsed": false
      },
      "outputs": [],
      "source": [
        "print(data.sdf_data)"
      ]
    },
    {
      "cell_type": "markdown",
      "metadata": {},
      "source": [
        "The data is stored as a list of dictionaries representing each entry in the SDF file. The dictionary has keys corresponding\nto the isotope, reaction, region number, integral value for the sdf profile (i.e. the energy-integrated sensitivity), and\na key ``sensitivities`` which contains the full energy-dependent sensitivity profile stored as a :func:`uncertainties.unumpy.uarray`\nobjects (essentially just numpy arrays with :func:`uncertainties.ufloat` objects). Detailed documentation about the keys\nof the dicionaries can be found in the documentation for the :attr:`tsunami_ip_utils.readers.SdfReader.sdf_data` attribute.\n\nFor example, the sensitivity profile for the first entry can be accessed by\n\n"
      ]
    },
    {
      "cell_type": "code",
      "execution_count": null,
      "metadata": {
        "collapsed": false
      },
      "outputs": [],
      "source": [
        "print(data.sdf_data[0]['isotope'], data.sdf_data[0]['reaction_type'])\nprint(data.sdf_data[0]['sensitivities'])"
      ]
    },
    {
      "cell_type": "markdown",
      "metadata": {},
      "source": [
        "### Reading Region-Integrated SDF profiles\nThere is a separate class (:class:`tsunami_ip_utils.readers.RegionIntegratedSdfReader`) which reads only the region-integrated\nSDF profiles. Note that this data could be obtained using :class:`tsunami_ip_utils.readers.SdfReader` by simply filtering\nthe data for the region-integrated profiles. However, this class is provided for convenience, and the fact that only region\nintegrated data exists guarantees that there is one and only one SDF profile for each nuclide-reaction pair, which allows\nthe data to be stored as a nested dictionary. Sdf data is retreived in the same way as the general SDF reader\n\n"
      ]
    },
    {
      "cell_type": "code",
      "execution_count": null,
      "metadata": {
        "collapsed": false
      },
      "outputs": [],
      "source": [
        "data = RegionIntegratedSdfReader(f'{EXAMPLES}/data/example_sdfs/HMF/HEU-MET-FAST-003-001.sdf')\nprint(data.sdf_data)"
      ]
    },
    {
      "cell_type": "markdown",
      "metadata": {},
      "source": [
        "The data can be converted to a nested dictionary by calling the \n:meth:`tsunami_ip_utils.readers.RegionIntegratedSdfReader.convert_to_dict` metod\n\n"
      ]
    },
    {
      "cell_type": "code",
      "execution_count": null,
      "metadata": {
        "collapsed": false
      },
      "outputs": [],
      "source": [
        "data.convert_to_dict()\nprint(data.sdf_data)"
      ]
    },
    {
      "cell_type": "markdown",
      "metadata": {},
      "source": [
        "## Reading .h5 formatted .sdf files\nSCALE provides utilities (like [tao](https://scale-manual.ornl.gov/tsunami-ip-appAB.html#format-of-hdf5-based-sensitivity-data-file))\nfor converting .sdf files to .h5 files. These files can be read easily using [h5py](https://docs.h5py.org/en/stable), but\nthe function :func:`tsunami_ip_utils.readers.read_region_integrated_h5_sdf` provides an interface that outputs a dictionary\nof a similar format as that produced by the :meth:`tsunami_ip_utils.readers.RegionIntegratedSdfReader.convert_to_dict` method,\nexcept that only the sensitivity data is included, and the dictionary is keyed by nuclide zaid and reaction mt rather than\nthe names.\n\n"
      ]
    },
    {
      "cell_type": "code",
      "execution_count": null,
      "metadata": {
        "collapsed": false
      },
      "outputs": [],
      "source": [
        "from tsunami_ip_utils.readers import read_region_integrated_h5_sdf\n\ndata = read_region_integrated_h5_sdf(f'{EXAMPLES}/data/example_sdfs/HMF/HEU-MET-FAST-003-001.sdf.h5')\nprint(data)"
      ]
    }
  ],
  "metadata": {
    "kernelspec": {
      "display_name": "Python 3",
      "language": "python",
      "name": "python3"
    },
    "language_info": {
      "codemirror_mode": {
        "name": "ipython",
        "version": 3
      },
      "file_extension": ".py",
      "mimetype": "text/x-python",
      "name": "python",
      "nbconvert_exporter": "python",
      "pygments_lexer": "ipython3",
      "version": "3.11.9"
    }
  },
  "nbformat": 4,
  "nbformat_minor": 0
}