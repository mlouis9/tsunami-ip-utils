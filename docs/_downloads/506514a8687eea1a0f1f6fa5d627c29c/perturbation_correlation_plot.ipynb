{
  "cells": [
    {
      "cell_type": "markdown",
      "metadata": {},
      "source": [
        "\n# Perturbation Correlation Plots\n\nThis example demonstrates how to generate a perturbation correlation plot using the \n:func:`tsunami_ip_utils.perturbations.generate_points` \n"
      ]
    },
    {
      "cell_type": "markdown",
      "metadata": {},
      "source": [
        "First we need to cache the base and perturbed cross section libraries that correspond to the SDF profiles that were computed (which\nfor this example is just the dummy 56 group library). This is done by running the following code block:\n\n"
      ]
    },
    {
      "cell_type": "code",
      "execution_count": null,
      "metadata": {
        "collapsed": false
      },
      "outputs": [],
      "source": [
        "from tsunami_ip_utils.perturbations import generate_points, cache_all_libraries\nfrom pathlib import Path\nfrom tsunami_ip_utils.viz import perturbation_plot\nfrom paths import EXAMPLES\n\nmultigroup_library = EXAMPLES / 'data' / 'dummy_56_v7.1'\nperturbation_factors = Path(\"/home/mlouis9/codes/SCALE-6.3.1/data/perturb/252n.v7.1\")\n\ncache_all_libraries(multigroup_library, perturbation_factors)"
      ]
    },
    {
      "cell_type": "markdown",
      "metadata": {},
      "source": [
        "More details on caching libraries and why it is necessary are provided in `sphx_glr_auto_examples_caching_cross_sections.py`.\nUsing these cached libraries, we can now generate the perturbation points for the perturbation correlation plot. Note we specify the\nnumber of perturbed points to generate (corresponding to the number of perturbed cross section library samples in the cache directory\nto use) and the application and experiment SDF files to use for the perturbation correlation plot.\n\n"
      ]
    },
    {
      "cell_type": "code",
      "execution_count": null,
      "metadata": {
        "collapsed": false
      },
      "outputs": [],
      "source": [
        "application = EXAMPLES / 'data' / 'example_sdfs' / 'u235-dummy' / 'sphere_model_1.sdf'\nexperiment  = EXAMPLES / 'data' / 'example_sdfs' / 'u235-dummy' / 'sphere_model_3.sdf'\nnum_perturbations = 50\npoints = generate_points(application, experiment, multigroup_library, \\\n            perturbation_factors, num_perturbations)\n\nfig = perturbation_plot(points)\nfig.show()"
      ]
    },
    {
      "cell_type": "markdown",
      "metadata": {},
      "source": [
        "This plot just shows the calcualted Pearson and Spearman correlation coefficients, and does not show the comparison to the TSUNAMI-IP\ncalculated $c_k$. To generate a comparison like this, please refer to the `sphx_glr_auto_examples_compare_ck.py`\nexample. Please note that since the Pearson and Spearman correlation coefficients are being computed from a finite sample size, the\nvalues necessarily have a sampling distribution with some uncertainty. This uncertainty is generally less than 5% for a sample size\ngreater than 200, but this depends on the value of $c_k$ (see `the technical manual <manual-final-results>` for\nmore details). \n\n"
      ]
    },
    {
      "cell_type": "markdown",
      "metadata": {},
      "source": [
        "The perturbation plot can also be saved as a PNG image using the following code block:\n\n"
      ]
    },
    {
      "cell_type": "code",
      "execution_count": null,
      "metadata": {
        "collapsed": false
      },
      "outputs": [],
      "source": [
        "with open( EXAMPLES / '_static' / 'perturbation_plot.png', 'wb' ) as f:\n    f.write( fig.to_image('png') )\n\n# sphinx_gallery_thumbnail_path = '../../examples/_static/perturbation_plot.png'"
      ]
    }
  ],
  "metadata": {
    "kernelspec": {
      "display_name": "Python 3",
      "language": "python",
      "name": "python3"
    },
    "language_info": {
      "codemirror_mode": {
        "name": "ipython",
        "version": 3
      },
      "file_extension": ".py",
      "mimetype": "text/x-python",
      "name": "python",
      "nbconvert_exporter": "python",
      "pygments_lexer": "ipython3",
      "version": "3.11.9"
    }
  },
  "nbformat": 4,
  "nbformat_minor": 0
}