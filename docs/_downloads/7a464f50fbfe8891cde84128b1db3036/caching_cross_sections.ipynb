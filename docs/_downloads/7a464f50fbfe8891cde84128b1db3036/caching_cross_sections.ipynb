{
  "cells": [
    {
      "cell_type": "markdown",
      "metadata": {},
      "source": [
        "\n# Cache Base and Perturbed Cross Section Libraries\nThis demonstrates how to cache the base and perturbed cross section libraries for a given SCALE multigroup library. This is useful for\npreventing the need to regenerate the perturbed cross section libraries each time a perturbation correlation plot is created.\n"
      ]
    },
    {
      "cell_type": "markdown",
      "metadata": {},
      "source": [
        "This module uses clarolplus along with the paths to the base cross section library and the perturbation factors to create the\nperturbed cross section libraries, then cache them as ``.pkl`` files which can be readily loaded into python for future use.\n\n"
      ]
    },
    {
      "cell_type": "code",
      "execution_count": null,
      "metadata": {
        "collapsed": false
      },
      "outputs": [],
      "source": [
        "from tsunami_ip_utils.perturbations import cache_all_libraries\nfrom paths import EXAMPLES\nfrom pathlib import Path\n\nmultigroup_library = EXAMPLES / 'data' / 'dummy_56_v7.1'\nperturbation_factors = Path(\"~/codes/SCALE-6.3.1/data/perturb/56n.v7.1\")\ncache_all_libraries(multigroup_library, perturbation_factors)"
      ]
    },
    {
      "cell_type": "markdown",
      "metadata": {},
      "source": [
        "Note that the reported runtime is not accurate, and actually caching all of the perturbations of the dummy 56 group library takes\naround 30 minutes (depending on the number of available cores, since this caching is multi-threaded by default). As mentioned in the\nAPI documentation, this can take up to ~5 hours for the 252 group library, and will consume a significant amount of disk space. Now\nto cache one of the SCALE libraries for production use, just change ``multigroup_library`` to be a path to one of SCALE's default\nlibraries (e.g. ``Path(\"~/codes/SCALE-6.3.1/data/scale.rev05.xn252v7.1\")``), and change the ``perturbation_factors`` to the path to\nthe perturbation factors for the library you are using (e.g. ``Path(\"~/codes/SCALE-6.3.1/data/perturb/252n.v7.1\")``) and run the\nthe lines of code above.\n"
      ]
    }
  ],
  "metadata": {
    "kernelspec": {
      "display_name": "Python 3",
      "language": "python",
      "name": "python3"
    },
    "language_info": {
      "codemirror_mode": {
        "name": "ipython",
        "version": 3
      },
      "file_extension": ".py",
      "mimetype": "text/x-python",
      "name": "python",
      "nbconvert_exporter": "python",
      "pygments_lexer": "ipython3",
      "version": "3.11.9"
    }
  },
  "nbformat": 4,
  "nbformat_minor": 0
}