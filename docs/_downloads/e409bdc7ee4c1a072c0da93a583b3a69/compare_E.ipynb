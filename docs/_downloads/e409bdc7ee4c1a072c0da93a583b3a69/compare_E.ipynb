{
  "cells": [
    {
      "cell_type": "markdown",
      "metadata": {},
      "source": [
        "\n# Comparing Calculated and TSUNAMI-IP E for a Set of SDF Files\n\nThis example demonstrates the use of ``tsunami_ip_utils`` for calculating the similarity index $E$ for a set of TSUNAMI-IP \nSDF files and comparing to the TSUNAMI-IP calculated value. This example uses a set of 12 SDF files generated from the highly \nenriched uranium fast metal (HMF) series of critical experiments [Bess2019]_.\n"
      ]
    },
    {
      "cell_type": "code",
      "execution_count": null,
      "metadata": {
        "collapsed": false
      },
      "outputs": [],
      "source": [
        "from tsunami_ip_utils.comparisons import E_calculation_comparison\nimport pandas as pd\nimport pickle\nfrom paths import EXAMPLES\n\n# Create a list of application and experiment SDF files (same set of applications and experiments)\napplications = [ f\"{EXAMPLES}/data/example_sdfs/HMF/HEU-MET-FAST-003-00{i}.sdf\" for i in range(1, 3) ]\nexperiments = applications\ndata = E_calculation_comparison(applications, experiments)\nE_total_comparison = data['total']"
      ]
    },
    {
      "cell_type": "markdown",
      "metadata": {},
      "source": [
        "The output is a pandas dataframe. The application is the first index, and can be accessed via passing the application\nnumber as an index. For example, to access the first application:\n\n"
      ]
    },
    {
      "cell_type": "code",
      "execution_count": null,
      "metadata": {
        "collapsed": false
      },
      "outputs": [],
      "source": [
        "print(E_total_comparison[1])"
      ]
    },
    {
      "cell_type": "markdown",
      "metadata": {},
      "source": [
        "From the output, you can see that each application has a few attributes that are calculated. The attributes are:\n\n"
      ]
    },
    {
      "cell_type": "code",
      "execution_count": null,
      "metadata": {
        "collapsed": false
      },
      "outputs": [],
      "source": [
        "print(E_total_comparison[1].keys())"
      ]
    },
    {
      "cell_type": "markdown",
      "metadata": {},
      "source": [
        "To access, for example, the calculated E value, you can pass the appropriate key\n\n"
      ]
    },
    {
      "cell_type": "code",
      "execution_count": null,
      "metadata": {
        "collapsed": false
      },
      "outputs": [],
      "source": [
        "print(E_total_comparison[1]['Calculated'])"
      ]
    },
    {
      "cell_type": "markdown",
      "metadata": {},
      "source": [
        "This gives the calculated E value for application 1 compared to all other experiments. To select a specific application\nexperiement pair, you can pass the experiment number as the second index. For example, to access the calculated E value\nfor application 1 compared to experiment 2:\n\n"
      ]
    },
    {
      "cell_type": "code",
      "execution_count": null,
      "metadata": {
        "collapsed": false
      },
      "outputs": [],
      "source": [
        "print(E_total_comparison[1]['Calculated'][2])"
      ]
    },
    {
      "cell_type": "markdown",
      "metadata": {},
      "source": [
        "Now the pandas dataframe comparison for each of the $E$ types (i.e. $E_{\\text{total}}$, $E_{\\text{fission}}$, \n$E_{\\text{capture}}$, and $E_{\\text{scatter}}$) can be written to an excel file. The gold standard data is also \nprovided in the ``gold`` directory.\n\n"
      ]
    },
    {
      "cell_type": "code",
      "execution_count": null,
      "metadata": {
        "collapsed": false
      },
      "outputs": [],
      "source": [
        "# Save output data as xlsx\nfor E_type in data.keys():\n    data[E_type].to_excel(f\"{E_type}_comparison.xlsx\")\n\n# Test that the calculated E comparison is the same as the gold standard\nfor E_type in data.keys():\n    dumped_data = pd.read_excel( f\"{E_type}_comparison.xlsx\"  )\n    gold_data   = pd.read_excel( f\"gold/{E_type}_comparison.xlsx\" )\n\n    assert dumped_data.equals( gold_data )"
      ]
    },
    {
      "cell_type": "markdown",
      "metadata": {},
      "source": [
        "## References\n.. [Bess2019] J. Bess, \"International handbook of evaluated criticality safety benchmark experiments (ICSBEP),\" \n  Organization for Economic Co-operation and Development-Nuclear Energy Agency Report NEA/NSC/DOC (95) 3 (2019).\n"
      ]
    }
  ],
  "metadata": {
    "kernelspec": {
      "display_name": "Python 3",
      "language": "python",
      "name": "python3"
    },
    "language_info": {
      "codemirror_mode": {
        "name": "ipython",
        "version": 3
      },
      "file_extension": ".py",
      "mimetype": "text/x-python",
      "name": "python",
      "nbconvert_exporter": "python",
      "pygments_lexer": "ipython3",
      "version": "3.11.9"
    }
  },
  "nbformat": 4,
  "nbformat_minor": 0
}