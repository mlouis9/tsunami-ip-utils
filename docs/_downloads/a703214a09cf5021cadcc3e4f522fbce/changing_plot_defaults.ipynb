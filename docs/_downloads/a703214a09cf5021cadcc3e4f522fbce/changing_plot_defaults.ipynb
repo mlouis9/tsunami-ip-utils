{
  "cells": [
    {
      "cell_type": "markdown",
      "metadata": {},
      "source": [
        "\n# Changing Plot Defaults\nThis example demonstrates how to change the default plot settings for the matrix plot. This includes changing the plot\ntype on the diagonals, changing the plot type for the off-diagonals.\n"
      ]
    },
    {
      "cell_type": "code",
      "execution_count": null,
      "metadata": {
        "collapsed": false
      },
      "outputs": [],
      "source": [
        "from tsunami_ip_utils.viz.viz import matrix_plot\nfrom tsunami_ip_utils.viz.plot_utils import generate_plot_objects_array_from_contributions\nfrom tsunami_ip_utils.integral_indices import get_uncertainty_contributions\nfrom paths import EXAMPLES\n\napplication_files = [ EXAMPLES / 'data' / 'example_sdfs' / 'MCT' / f'MIX-COMP-THERM-001-00{i}.sdf' for i in range(1,4) ]\nexperiment_files = application_files\n\ncontributions_nuclide, contributions_nuclide_reaction = get_uncertainty_contributions(application_files, experiment_files)\n\nlabels = {\n    'applications': [ application_file.name for application_file in application_files ],\n    'experiments': [ experiment_file.name for experiment_file in experiment_files ],\n}"
      ]
    },
    {
      "cell_type": "markdown",
      "metadata": {},
      "source": [
        "## Changing the Diagonal Plot Type\nOn the diagonals, where the application and experiment are the same, the plot is a pie chart of contributions to the\nnuclear-data indcued uncertainty, as shown in `sphx_glr_auto_examples_visualizing_contributions.py`. However, other\ntypes of plots, such as static bar plots can be used instead. This is done by specifying the ``diagonal_type`` in \nthe :func:`tsunami_ip_utils.viz.plot_utils.generate_plot_objects_array_from_contributions` function. Note that any plot type\navailable in :func:`tsunami_ip_utils.viz.viz.contribution_plot` can be used.\n\n"
      ]
    },
    {
      "cell_type": "markdown",
      "metadata": {},
      "source": [
        "### Static Pie Chart Diagonals\nFor a static pie chart, the ``diagonal_type`` should be set to ``'pie'``\n\n"
      ]
    },
    {
      "cell_type": "code",
      "execution_count": null,
      "metadata": {
        "collapsed": false
      },
      "outputs": [],
      "source": [
        "plot_objects_array_nuclide = generate_plot_objects_array_from_contributions(\n    contributions_nuclide, \n    '(\u0394k/k)^2', \n    diagonal_type='pie'\n)\nfig = matrix_plot(plot_objects_array_nuclide, plot_type='interactive', labels=labels)\nfig.show()"
      ]
    },
    {
      "cell_type": "markdown",
      "metadata": {},
      "source": [
        "### Static Bar Chart Diagonals\nFor a static pie chart, the ``diagonal_type`` should be set to ``'bar'``\n\n"
      ]
    },
    {
      "cell_type": "code",
      "execution_count": null,
      "metadata": {
        "collapsed": false
      },
      "outputs": [],
      "source": [
        "plot_objects_array_nuclide = generate_plot_objects_array_from_contributions(\n    contributions_nuclide, \n    '(\u0394k/k)^2', \n    diagonal_type='bar'\n)\nfig = matrix_plot(plot_objects_array_nuclide, plot_type='interactive', labels=labels)\nfig.show()"
      ]
    },
    {
      "cell_type": "markdown",
      "metadata": {},
      "source": [
        "If a plot type for which a variant with an interactive legend exists (e.g. ``'interactive_pie'``) is used, the interactive \nlegend can be turned off by setting the ``interactive_contribution_legend`` parameter to ``False``. These plots can also \nbe saved to an image\n\n"
      ]
    },
    {
      "cell_type": "code",
      "execution_count": null,
      "metadata": {
        "collapsed": false
      },
      "outputs": [],
      "source": [
        "plot_objects_array_nuclide = generate_plot_objects_array_from_contributions(\n    contributions_nuclide, \n    '(\u0394k/k)^2',\n    diagonal_type='interactive_pie', # This is the default, but it is shown here for clarity\n    interactive_contribution_legend=False\n)\nfig = matrix_plot(plot_objects_array_nuclide, plot_type='interactive', labels=labels)\nfig.show()"
      ]
    },
    {
      "cell_type": "markdown",
      "metadata": {},
      "source": [
        "## Changing the Off-Diagonal Plot Type\nThe off-diagonal plots can also be changed to a different type. By default, the off-diagonal plots are interactive scatter \nplots with an interactive legend, but they can just as easily be changed to a static matplotlib scatter plots\n\n"
      ]
    },
    {
      "cell_type": "code",
      "execution_count": null,
      "metadata": {
        "collapsed": false
      },
      "outputs": [],
      "source": [
        "plot_objects_array_nuclide = generate_plot_objects_array_from_contributions(\n    contributions_nuclide, \n    '$(\\\\Delta k/k)^2$', # Since all plots are matplotlib plots, pylatex formatting can be used to make the labels look nice\n    off_diagonal_type='scatter',\n    diagonal_type='bar',\n)\nfig = matrix_plot(plot_objects_array_nuclide, plot_type='interactive', labels=labels)\nfig.to_image( EXAMPLES / '_static' / 'matrix_bar_diagonal.png')\n\n# sphinx_gallery_thumbnail_path = '../../examples/_static/matrix_bar_diagonal.png'"
      ]
    }
  ],
  "metadata": {
    "kernelspec": {
      "display_name": "Python 3",
      "language": "python",
      "name": "python3"
    },
    "language_info": {
      "codemirror_mode": {
        "name": "ipython",
        "version": 3
      },
      "file_extension": ".py",
      "mimetype": "text/x-python",
      "name": "python",
      "nbconvert_exporter": "python",
      "pygments_lexer": "ipython3",
      "version": "3.11.9"
    }
  },
  "nbformat": 4,
  "nbformat_minor": 0
}