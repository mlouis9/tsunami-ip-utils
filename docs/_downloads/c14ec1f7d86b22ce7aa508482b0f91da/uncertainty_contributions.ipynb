{
  "cells": [
    {
      "cell_type": "markdown",
      "metadata": {},
      "source": [
        "\n# Uncertainty Contributions\nThis example demonstrates how to read (nuclear-data induced) uncertainty contributions from a set of TSUNAMI-B SDF files.\n"
      ]
    },
    {
      "cell_type": "code",
      "execution_count": null,
      "metadata": {
        "collapsed": false
      },
      "outputs": [],
      "source": [
        "# Getting the Contributions\n# -------------------------\n# The first step is to get the contributions to the uncertainty. This can be done using the \n# :func:`tsunami_ip_utils.integral_indices.get_uncertainty_contributions` function.\n\nfrom tsunami_ip_utils.integral_indices import get_uncertainty_contributions\nfrom paths import EXAMPLES\n\napplication_filenames = [ f\"{EXAMPLES}/data/example_sdfs/HMF/HEU-MET-FAST-003-00{i}.sdf\" for i in range(1, 3) ]\nexperiment_filenames  = [ f\"{EXAMPLES}/data/example_sdfs/HMF/HEU-MET-FAST-003-00{i}.sdf\" for i in range(3, 6) ]\nuncertainty_contributions_nuclide, uncertainty_contributions_nuclide_reaction = \\\n      get_uncertainty_contributions(application_filenames, experiment_filenames)"
      ]
    },
    {
      "cell_type": "markdown",
      "metadata": {},
      "source": [
        "As explained in the API documentation, the above function returns two dictionaries. The first dictionary,\n``uncertainty_contributions_nuclide``, contains the contributions to the uncertainty for each nuclide. The second dictionary,\n``uncertainty_contributions_nuclide_reaction``, contains the contributions to the uncertainty for each nuclide-reaction pair.\nEach dictionary has keys ``'application'`` and ``'experiment'``.\n\n"
      ]
    },
    {
      "cell_type": "code",
      "execution_count": null,
      "metadata": {
        "collapsed": false
      },
      "outputs": [],
      "source": [
        "print(uncertainty_contributions_nuclide.keys())\napplication_nuclide_contributions = uncertainty_contributions_nuclide['application']"
      ]
    },
    {
      "cell_type": "markdown",
      "metadata": {},
      "source": [
        "## Isotope-Wise Contributions\nThe contents of the dictionary is a list of contributions for each application/experiment. I.e. the (nuclide-wise) \ncontributions to the nuclear data induced uncertainty for application 1 (i.e. ``application_filenames[0]``) can be \naccessed as follows:\n\n"
      ]
    },
    {
      "cell_type": "code",
      "execution_count": null,
      "metadata": {
        "collapsed": false
      },
      "outputs": [],
      "source": [
        "print(application_nuclide_contributions[1])"
      ]
    },
    {
      "cell_type": "markdown",
      "metadata": {},
      "source": [
        "The ouput is a list of dictionaries with the keys ``'isotope'`` and ``'contribution'``. The contributions are the nuclide-wise\ncontributions to the nuclear data induced uncertainty. For TSUNAMI-B formatted SDFs, these values have an associated\n(monte carlo) uncertainty, and so are represented as :func:`uncertainties.ufloat` objects.\n\n"
      ]
    },
    {
      "cell_type": "code",
      "execution_count": null,
      "metadata": {
        "collapsed": false
      },
      "outputs": [],
      "source": [
        "print(application_nuclide_contributions[1][0]['contribution'])"
      ]
    },
    {
      "cell_type": "markdown",
      "metadata": {},
      "source": [
        "These objects automatically handle uncertainty propagation, and there use is further documented in the :mod:`uncertainties`\npackage.\n\n"
      ]
    },
    {
      "cell_type": "markdown",
      "metadata": {},
      "source": [
        "## Isotope-Reaction-Wise Contributions\nIsotope-reaction-wise contributions are accessed similarly.\n\n"
      ]
    },
    {
      "cell_type": "code",
      "execution_count": null,
      "metadata": {
        "collapsed": false
      },
      "outputs": [],
      "source": [
        "application_nuclide_contributions = uncertainty_contributions_nuclide_reaction['application']\nprint(application_nuclide_contributions[1])"
      ]
    },
    {
      "cell_type": "markdown",
      "metadata": {},
      "source": [
        "The output is a list of dictionaries with the keys ``'isotope'``, ``'reaction'``, and ``'contribution'``. The contributions\nare (like before) :func:`uncertainties.ufloat` objects. A specific contribution can be accessed via\n\n"
      ]
    },
    {
      "cell_type": "code",
      "execution_count": null,
      "metadata": {
        "collapsed": false
      },
      "outputs": [],
      "source": [
        "print(application_nuclide_contributions[1][0])\nprint(application_nuclide_contributions[1][0]['contribution'])"
      ]
    },
    {
      "cell_type": "markdown",
      "metadata": {},
      "source": [
        "## Getting Contributions for a Single File\nAs discussed in the API documentation, the application_filenames, and experiment_filenames arugments are both optional - to\nstreamline the process of getting contributions for a single file, the function can be called with only one argument. For\nexample, to get the contributions for the first application file, we can call the function as follows:\n\n"
      ]
    },
    {
      "cell_type": "code",
      "execution_count": null,
      "metadata": {
        "collapsed": false
      },
      "outputs": [],
      "source": [
        "application_filenames = [ f\"{EXAMPLES}/data/example_sdfs/HMF/HEU-MET-FAST-003-001.sdf\" ]\nuncertainty_contributions_nuclide, uncertainty_contributions_nuclide_reaction = \\\n      get_uncertainty_contributions(application_filenames)\nprint(uncertainty_contributions_nuclide['application'])"
      ]
    },
    {
      "cell_type": "markdown",
      "metadata": {},
      "source": [
        "Note that since we only passed application filenames, the function only returns the contributions for the application. The\nexperiment contributions are an empty list\n\n"
      ]
    },
    {
      "cell_type": "code",
      "execution_count": null,
      "metadata": {
        "collapsed": false
      },
      "outputs": [],
      "source": [
        "print(uncertainty_contributions_nuclide['experiment'])"
      ]
    },
    {
      "cell_type": "markdown",
      "metadata": {},
      "source": [
        "## Variance Contributions\nThe contributions to the nuclear data induced variance can also be obtained by passing the ``variance=True`` argument to the\nfunction. This will return the contributions to the variance, rather than the uncertainty.\n\n"
      ]
    },
    {
      "cell_type": "code",
      "execution_count": null,
      "metadata": {
        "collapsed": false
      },
      "outputs": [],
      "source": [
        "variance_contributions_nuclide, variance_contributions_nuclide_reaction = \\\n      get_uncertainty_contributions(application_filenames, variance=True)\n\nprint(variance_contributions_nuclide['application'])"
      ]
    },
    {
      "cell_type": "markdown",
      "metadata": {},
      "source": [
        "The variances are just the squares of the uncertainties, except when the are negative, in which case the variance is the\nnegative of the square of the uncertainty.\n\n"
      ]
    },
    {
      "cell_type": "code",
      "execution_count": null,
      "metadata": {
        "collapsed": false
      },
      "outputs": [],
      "source": [
        "variance_contribution = variance_contributions_nuclide['application'][0][0]['contribution']\nuncertainty_contribution = uncertainty_contributions_nuclide['application'][0][0]['contribution']\nsquared_uncertainty = uncertainty_contribution**2 if uncertainty_contribution >= 0 else  -(uncertainty_contribution)**2\n\nprint(variance_contribution, squared_uncertainty)\nassert ( variance_contribution.n == squared_uncertainty.n ) and ( variance_contribution.s == squared_uncertainty.s )"
      ]
    },
    {
      "cell_type": "markdown",
      "metadata": {},
      "source": [
        "Note that even though the variance contribution and the squared uncertainty contribution have the same nominal value\nand standard deviation, they are not equal, i.e. ``variance_contribution == squared_uncertainty`` evaluates to ``False``. \nThis is because the uncertainties are represented as :func:`uncertainties.ufloat` which represent distinct random variables, \nas discussed in [the uncertainties package documentation](https://pythonhosted.org/uncertainties/user_guide.html#comparison-operators).\n"
      ]
    }
  ],
  "metadata": {
    "kernelspec": {
      "display_name": "Python 3",
      "language": "python",
      "name": "python3"
    },
    "language_info": {
      "codemirror_mode": {
        "name": "ipython",
        "version": 3
      },
      "file_extension": ".py",
      "mimetype": "text/x-python",
      "name": "python",
      "nbconvert_exporter": "python",
      "pygments_lexer": "ipython3",
      "version": "3.11.9"
    }
  },
  "nbformat": 4,
  "nbformat_minor": 0
}