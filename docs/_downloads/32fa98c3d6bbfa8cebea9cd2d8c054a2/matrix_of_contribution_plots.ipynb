{
  "cells": [
    {
      "cell_type": "markdown",
      "metadata": {},
      "source": [
        "\n# Matrix of Contribution Correlation Plots\nThe first type of (interactive) similarity plot that we will view in matrix form is the contribution correlation plot discussed\nin `sphx_glr_auto_examples_contribution_correlation_plot.py`. This shows the contribution correlation plot between all\npairs of applications and experiments in a (symmetric) matrix. First we consider the case of a square matrix where the set\nof applications and experiments are the same.\n"
      ]
    },
    {
      "cell_type": "markdown",
      "metadata": {},
      "source": [
        "## Interactive Matrix Plots\nInteractive matrix plots wrap several Plotly plots in an html grid that's served by a Dash app that allows users to interact\nwith each of the individual plots. This is useful for comparing multiple applications and experiments in a single figure.\nSpecifically, it is useful for viewing all combinations of a given set of SDF files in a single figure. \n\n**Note** that by default the the correlation plots in the off-diagonal cells are \n:class:`tsunami_ip_utils.viz.scatter_plot.InteractiveScatterLegend` plots, which are fully interactive, and dynamically update\nthe calculated summary statistics and regression when points are excluded with the legend. However, this interactivity requires\nclientiside python to run, and so is not represented in the documentation.\n\n"
      ]
    },
    {
      "cell_type": "code",
      "execution_count": null,
      "metadata": {
        "collapsed": false
      },
      "outputs": [],
      "source": [
        "from tsunami_ip_utils.viz.viz import matrix_plot\nfrom tsunami_ip_utils.viz.plot_utils import generate_plot_objects_array_from_contributions\nfrom tsunami_ip_utils.integral_indices import get_uncertainty_contributions\nfrom paths import EXAMPLES\n\napplication_files = [ EXAMPLES / 'data' / 'example_sdfs' / 'MCT' / f'MIX-COMP-THERM-001-00{i}.sdf' for i in range(1,4) ]\nexperiment_files = application_files"
      ]
    },
    {
      "cell_type": "markdown",
      "metadata": {},
      "source": [
        "Now we need to get the uncertainty contributions for each experiment and each application using \n:func:`tsunami_ip_utils.integral_indices.get_uncertainty_contributions` (described in \n`sphx_glr_auto_examples_uncertainty_contributions.py`).\n\n"
      ]
    },
    {
      "cell_type": "code",
      "execution_count": null,
      "metadata": {
        "collapsed": false
      },
      "outputs": [],
      "source": [
        "contributions_nuclide, contributions_nuclide_reaction = get_uncertainty_contributions(application_files, experiment_files)"
      ]
    },
    {
      "cell_type": "markdown",
      "metadata": {},
      "source": [
        "### Nuclide-Wise Contributions\nNow, the :func:`tsunami_ip_utils.viz.viz.matrix_plot` function needs a numpy array of plot objects to generate the matrix plot.\nWe can generate this array using the :func:`tsunami_ip_utils.viz.plot_utils.generate_plot_objects_array_from_contributions` function.\nThis function takes a dictionary of contributions and the name of the integral index, and returns a numpy array of plot objects\nthat can be passed to the :func:`tsunami_ip_utils.viz.viz.matrix_plot` function.\n\n"
      ]
    },
    {
      "cell_type": "code",
      "execution_count": null,
      "metadata": {
        "collapsed": false
      },
      "outputs": [],
      "source": [
        "plot_objects_array_nuclide = generate_plot_objects_array_from_contributions(contributions_nuclide, '(\u0394k/k)^2')"
      ]
    },
    {
      "cell_type": "markdown",
      "metadata": {},
      "source": [
        "Now the matrix plot can easily be generated\n\n"
      ]
    },
    {
      "cell_type": "code",
      "execution_count": null,
      "metadata": {
        "collapsed": false
      },
      "outputs": [],
      "source": [
        "fig = matrix_plot(plot_objects_array_nuclide, plot_type='interactive')\nfig.show()"
      ]
    },
    {
      "cell_type": "markdown",
      "metadata": {},
      "source": [
        "This plot is fully interactive. You can hold shift and scroll using the mousewheel to scroll horizontally, or just use the\nmousewheel alone to scroll vertically. Individual subfigures can also be saved by clicking the camera icon in the top right,\nor the entire plot can be saved by calling the ``to_image`` method on the figure object.\n\n"
      ]
    },
    {
      "cell_type": "code",
      "execution_count": null,
      "metadata": {
        "collapsed": false
      },
      "outputs": [],
      "source": [
        "fig = matrix_plot(plot_objects_array_nuclide, plot_type='interactive')\nfig.to_image( EXAMPLES / '_static' / 'matrix_plot.png' )\n\n# sphinx_gallery_thumbnail_path = '../../examples/_static/matrix_plot.png'"
      ]
    },
    {
      "cell_type": "markdown",
      "metadata": {},
      "source": [
        "Note if the default, nondescriptive labels aren't preferred, an arbitrary dictionary of labels for the applications and\nexperiments may be passed instead. Perhaps the most useful is the SDF file names.\n\n"
      ]
    },
    {
      "cell_type": "code",
      "execution_count": null,
      "metadata": {
        "collapsed": false
      },
      "outputs": [],
      "source": [
        "labels = {\n    'applications': [ application_file.name for application_file in application_files ],\n    'experiments': [ experiment_file.name for experiment_file in experiment_files ],\n}\nfig = matrix_plot(plot_objects_array_nuclide, plot_type='interactive', labels=labels)\nfig.show()"
      ]
    },
    {
      "cell_type": "markdown",
      "metadata": {},
      "source": [
        "### Nuclide-Reaction-Wise Contributions\nThe same can be done for the nuclide-reaction-wise contributions\n\n"
      ]
    },
    {
      "cell_type": "code",
      "execution_count": null,
      "metadata": {
        "collapsed": false
      },
      "outputs": [],
      "source": [
        "plot_objects_array_nuclide_reaction = generate_plot_objects_array_from_contributions(contributions_nuclide_reaction, '(\u0394k/k)^2')\nfig = matrix_plot(plot_objects_array_nuclide_reaction, plot_type='interactive', labels=labels)\nfig.show()"
      ]
    },
    {
      "cell_type": "markdown",
      "metadata": {},
      "source": [
        "## Static Matrix Plots\nStatic matrix plots are used for creating an analogous figure using static matplotlib plots. This implementation would have\nno need for the html of the interactive matrix plot, but as it stands, the interactive plot can contain all static plots as\nwell (and a mixture of static and interactive plots), and so this feature has not yet been implemented.\n"
      ]
    }
  ],
  "metadata": {
    "kernelspec": {
      "display_name": "Python 3",
      "language": "python",
      "name": "python3"
    },
    "language_info": {
      "codemirror_mode": {
        "name": "ipython",
        "version": 3
      },
      "file_extension": ".py",
      "mimetype": "text/x-python",
      "name": "python",
      "nbconvert_exporter": "python",
      "pygments_lexer": "ipython3",
      "version": "3.11.9"
    }
  },
  "nbformat": 4,
  "nbformat_minor": 0
}