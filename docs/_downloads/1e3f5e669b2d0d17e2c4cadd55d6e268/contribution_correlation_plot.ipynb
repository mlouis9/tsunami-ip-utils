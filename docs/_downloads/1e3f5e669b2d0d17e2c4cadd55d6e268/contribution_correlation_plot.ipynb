{
  "cells": [
    {
      "cell_type": "markdown",
      "metadata": {},
      "source": [
        "\n# Contribution Correlation Plots\nThis example demonstrates the use of the :func:`tsunami_ip_utils.viz.viz.correlation_plot` function to generate a contribution \ncorrelation plot.\n"
      ]
    },
    {
      "cell_type": "markdown",
      "metadata": {},
      "source": [
        "First, we import the necessary modules, and generate teh uncertainty contributions for the desired application and experiment\npair (as described in `../sphx_glr_auto_examples_uncertainty_contributions.py`).\n\n"
      ]
    },
    {
      "cell_type": "code",
      "execution_count": null,
      "metadata": {
        "collapsed": false
      },
      "outputs": [],
      "source": [
        "from tsunami_ip_utils.viz.viz import correlation_plot\nfrom tsunami_ip_utils.integral_indices import get_uncertainty_contributions\nfrom paths import EXAMPLES\n\napplication_files = [ EXAMPLES / 'data' / 'example_sdfs' / 'MCT' / f'MIX-COMP-THERM-001-001.sdf' ]\nexperiment_files = [ EXAMPLES / 'data' / 'example_sdfs' / 'MCT' / f'MIX-COMP-THERM-004-009.sdf' ]\n\ncontributions_nuclide, contributions_nuclide_reaction = get_uncertainty_contributions(application_files, experiment_files)"
      ]
    },
    {
      "cell_type": "markdown",
      "metadata": {},
      "source": [
        "## Nuclide-Wise Contributions\nNext, we generate the correlation plot using the :func:`tsunami_ip_utils.viz.viz.correlation_plot` function. First we start\nwith the nuclide-wise contributions.\n\n"
      ]
    },
    {
      "cell_type": "code",
      "execution_count": null,
      "metadata": {
        "collapsed": false
      },
      "outputs": [],
      "source": [
        "application_contributions = contributions_nuclide['application'][0]\nexperiment_contributions = contributions_nuclide['experiment'][0]\nfig, axs = correlation_plot(application_contributions, experiment_contributions)\nfig.show()"
      ]
    }
  ],
  "metadata": {
    "kernelspec": {
      "display_name": "Python 3",
      "language": "python",
      "name": "python3"
    },
    "language_info": {
      "codemirror_mode": {
        "name": "ipython",
        "version": 3
      },
      "file_extension": ".py",
      "mimetype": "text/x-python",
      "name": "python",
      "nbconvert_exporter": "python",
      "pygments_lexer": "ipython3",
      "version": "3.11.9"
    }
  },
  "nbformat": 4,
  "nbformat_minor": 0
}