{
  "cells": [
    {
      "cell_type": "markdown",
      "metadata": {},
      "source": [
        "\n# Placeholder\n\nThis is a placeholder description\n"
      ]
    },
    {
      "cell_type": "code",
      "execution_count": null,
      "metadata": {
        "collapsed": false
      },
      "outputs": [],
      "source": [
        "from tsunami_ip_utils.viz import generate_heatmap_from_comparison\n\nsuffix = ['calculated', 'tsunami_ip', 'percent_diff']\nkeys = ['Calculated', 'Tsunami-IP', 'Percent Difference']\nexperiment_types = ['HMF', 'MCT']\nfontsizes = [6, 4]\ncontribution_types = ['isotope', 'isotope_reaction']\n\n# Generate heatmaps for uncertainty contributions\nfor contribution_type in contribution_types:\n    for experiment_type, fontsize in zip(experiment_types, fontsizes):\n        plot_dict = generate_heatmap_from_comparison(\n            f\"./results/uncertainty_comparisons/{experiment_type}_comparisons_{contribution_type}.xlsx\",\n            base_fontsize=fontsize)\n        for index, value in enumerate(plot_dict.values()):\n            fig, ax = value\n            if fontsize == 4:\n                ax.tick_params(axis='x', labelsize=6)\n                ax.tick_params(axis='y', labelsize=6)\n            fig.savefig(f'./results/heatmaps/{contribution_type}_wise_{experiment_type}_{suffix[index]}.png', dpi=300, bbox_inches='tight')\n\n# ------------------------------------\n# Generate heatmaps for perturbations\n# ------------------------------------\n\n# MCT cases\nplot_dict = generate_heatmap_from_comparison(\n    f\"./results/MCT/perturbation_comparisons_500.xlsx\",\n    base_fontsize=4)\nfor index, value in enumerate(plot_dict.values()):\n    fig, ax = value\n    ax.tick_params(axis='x', labelsize=6)\n    ax.tick_params(axis='y', labelsize=6)\n    fig.savefig(f'./results/heatmaps/perturbation_MCT_{suffix[index]}.png', dpi=300, bbox_inches='tight')\n\n# HMF cases\nplot_dict = generate_heatmap_from_comparison(\n    f\"./results/HMF/perturbation_comparisons_500.xlsx\",\n    base_fontsize=4)\nfor index, value in enumerate(plot_dict.values()):\n    fig, ax = value\n    ax.tick_params(axis='x', labelsize=6)\n    ax.tick_params(axis='y', labelsize=6)\n    fig.savefig(f'./results/heatmaps/perturbation_HMF_{suffix[index]}.png', dpi=300, bbox_inches='tight')\n# points_array = [50, 200, 500, 1000]\n# for points in points_array:\n#     plot_dict = generate_heatmap_from_comparison(\n#         f\"./results/HMF/perturbation_comparisons_{points}.xlsx\",\n#         base_fontsize=4)\n#     ax.tick_params(axis='x', labelsize=6)\n#     ax.tick_params(axis='y', labelsize=6)\n#     fig.savefig(f'./results/heatmaps/perturbation_HMF_{points}_percent_diff.png', dpi=300, bbox_inches='tight')"
      ]
    }
  ],
  "metadata": {
    "kernelspec": {
      "display_name": "Python 3",
      "language": "python",
      "name": "python3"
    },
    "language_info": {
      "codemirror_mode": {
        "name": "ipython",
        "version": 3
      },
      "file_extension": ".py",
      "mimetype": "text/x-python",
      "name": "python",
      "nbconvert_exporter": "python",
      "pygments_lexer": "ipython3",
      "version": "3.11.9"
    }
  },
  "nbformat": 4,
  "nbformat_minor": 0
}