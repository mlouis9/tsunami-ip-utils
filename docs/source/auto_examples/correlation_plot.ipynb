{
  "cells": [
    {
      "cell_type": "markdown",
      "metadata": {},
      "source": [
        "\n# Placeholder\n\nThis is a placeholder description\n"
      ]
    },
    {
      "cell_type": "code",
      "execution_count": null,
      "metadata": {
        "collapsed": false
      },
      "outputs": [],
      "source": [
        "from tsunami_ip_utils.viz import correlation_plot, contribution_plot\nfrom tsunami_ip_utils.integral_indices import calculate_E_contributions, _add_missing_reactions_and_nuclides\nimport matplotlib.pyplot as plt\nfrom tsunami_ip_utils.readers import RegionIntegratedSdfReader\n\nall_sdfs = [ f\"../3d-sphere/sphere_model_{i}.sdf\" for i in range(1, 13) ]\n\nindices = [0, 9]\napplication_filenames = [ all_sdfs[index] for index in indices ]\nexperiment_filenames = [ all_sdfs[index] for index in indices ]\n\n# E = calculate_E(application_filenames, experiment_filenames)\n# print(E)\nE_contributions_nuclide, E_contributions_nuclide_reaction = calculate_E_contributions(application_filenames, experiment_filenames)\n\n# fig = contribution_plot(E_contributions_nuclide_reaction[0, 0], integral_index_name='E', plot_type='interactive_pie', plot_redundant_reactions=True)\n# fig.show()\n\n# fig = contribution_plot(E_contributions_nuclide_reaction[1, 1], integral_index_name='E', plot_type='interactive_pie', plot_redundant_reactions=True)\n# fig.show()\nprint(E_contributions_nuclide_reaction[0, 0])\nfig = correlation_plot(E_contributions_nuclide_reaction[0, 0], E_contributions_nuclide_reaction[1, 1], plot_type='interactive_scatter', \\\n                 integral_index_name='E', plot_redundant_reactions=True, interactive_legend=True)\n# fig.write_html('correlation_plot.html')\nfig.show()"
      ]
    }
  ],
  "metadata": {
    "kernelspec": {
      "display_name": "Python 3",
      "language": "python",
      "name": "python3"
    },
    "language_info": {
      "codemirror_mode": {
        "name": "ipython",
        "version": 3
      },
      "file_extension": ".py",
      "mimetype": "text/x-python",
      "name": "python",
      "nbconvert_exporter": "python",
      "pygments_lexer": "ipython3",
      "version": "3.11.9"
    }
  },
  "nbformat": 4,
  "nbformat_minor": 0
}