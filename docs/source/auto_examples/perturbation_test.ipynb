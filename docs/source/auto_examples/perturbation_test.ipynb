{
  "cells": [
    {
      "cell_type": "markdown",
      "metadata": {},
      "source": [
        "\n# Placeholder\n\nThis is a placeholder description\n"
      ]
    },
    {
      "cell_type": "code",
      "execution_count": null,
      "metadata": {
        "collapsed": false
      },
      "outputs": [],
      "source": [
        "from tsunami_ip_utils.perturbations import generate_points, cache_all_libraries\nfrom pathlib import Path\nfrom tsunami_ip_utils.viz import perturbation_plot\nfrom tsunami_ip_utils.viz.scatter_plot import EnhancedPlotlyFigure\nfrom tsunami_ip_utils.readers import read_integral_indices, RegionIntegratedSdfReader\nimport pickle\nimport matplotlib.pyplot as plt\nfrom uncertainties import unumpy\nimport h5py\nfrom tsunami_ip_utils.comparisons import _update_annotation\n\nmultigroup_library = Path(\"~/codes/SCALE-6.3.1/data/scale.rev05.xn252v7.1\")\nperturbation_factors = Path(\"/home/mlouis9/codes/SCALE-6.3.1/data/perturb/252n.v7.1\")\n\n# cache_all_libraries(multigroup_library, perturbation_factors)\n# points = generate_points(Path(\"../3d-sphere/sphere_model_1.sdf\"), Path(\"../3d-sphere/sphere_model_8.sdf\"), multigroup_library, \\\n#             perturbation_factors, 50)\n\n# with open(\"points.pkl\", \"wb\") as f:\n#     pickle.dump(points, f)\n\nwith open(\"points.pkl\", \"rb\") as f:\n    points = pickle.load(f)\n\nintegral_indices = read_integral_indices('../3d-sphere/tsunami_ip.out')\nC_k = integral_indices['C_k']\nE = integral_indices['E_total']\n\nexperiment_index = 7\nprint(C_k[experiment_index, 0], E[experiment_index, 0])\n\nfig = perturbation_plot(points)\n\n_update_annotation(fig, C_k[experiment_index, 0], 'c_k')\nfig.show()"
      ]
    }
  ],
  "metadata": {
    "kernelspec": {
      "display_name": "Python 3",
      "language": "python",
      "name": "python3"
    },
    "language_info": {
      "codemirror_mode": {
        "name": "ipython",
        "version": 3
      },
      "file_extension": ".py",
      "mimetype": "text/x-python",
      "name": "python",
      "nbconvert_exporter": "python",
      "pygments_lexer": "ipython3",
      "version": "3.11.9"
    }
  },
  "nbformat": 4,
  "nbformat_minor": 0
}