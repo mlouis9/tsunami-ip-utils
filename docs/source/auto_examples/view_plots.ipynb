{
  "cells": [
    {
      "cell_type": "markdown",
      "metadata": {},
      "source": [
        "\n# Placeholder\n\nThis is a placeholder description\n"
      ]
    },
    {
      "cell_type": "code",
      "execution_count": null,
      "metadata": {
        "collapsed": false
      },
      "outputs": [],
      "source": [
        "from tsunami_ip_utils.viz import load_interactive_matrix_plot\n\n# This loads the plot matrix for the 1000 sample points comparison\nfig = load_interactive_matrix_plot('results/HMF/perturbation_comparisons_200.pkl')\nfig.show()\n\n# Load the example matrix plot of %\u0394k/k contributions\n# fig = load_interactive_matrix_plot('results/uncertainty_comparisons/MCT_comparisons_isotope_reaction.pkl')\n# fig.show()"
      ]
    }
  ],
  "metadata": {
    "kernelspec": {
      "display_name": "Python 3",
      "language": "python",
      "name": "python3"
    },
    "language_info": {
      "codemirror_mode": {
        "name": "ipython",
        "version": 3
      },
      "file_extension": ".py",
      "mimetype": "text/x-python",
      "name": "python",
      "nbconvert_exporter": "python",
      "pygments_lexer": "ipython3",
      "version": "3.11.9"
    }
  },
  "nbformat": 4,
  "nbformat_minor": 0
}