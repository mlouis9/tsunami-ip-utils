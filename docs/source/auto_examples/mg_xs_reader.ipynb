{
  "cells": [
    {
      "cell_type": "markdown",
      "metadata": {},
      "source": [
        "\n# Placeholder\n\nThis is a placeholder description\n"
      ]
    },
    {
      "cell_type": "code",
      "execution_count": null,
      "metadata": {
        "collapsed": false
      },
      "outputs": [],
      "source": [
        "from tsunami_ip_utils.xs import read_multigroup_xs\nimport numpy as np\nfrom pathlib import Path\n\n# xs, energies = read_multigroup_xs('data/u235-mg-252g.txt', energy_boundaries=True)\n# print(np.shape(energies))\n\ncurrent_dir = Path(__file__).parent\n# xs = read_nuclide_reaction_from_multigroup_library(Path('~/codes/SCALE-6.3.1/data/scale.rev05.xn252v7.1'), '6000', 102)\n# print(xs)\n\n# out = parse_reactions_from_nuclide(str(current_dir / 'data' / 'u235-252g-all-rxns.txt'), reaction_mts = ['102', '18'], energy_boundaries=False)\n\n# out = read_reactions_from_nuclide(Path('~/codes/SCALE-6.3.1/data/scale.rev05.xn252v7.1'), '92235', ['102', '18'])\nnuclide_reaction_dict = {'92235': ['102', '18'], '92238': ['102', '18'], '92234': ['102', '18'], '92232': ['102', '18'], '94239': ['102', '18']}\nout = read_multigroup_xs(Path('~/codes/SCALE-6.3.1/data/scale.rev05.xn252v7.1'), nuclide_reaction_dict, method='small')\nprint(out)"
      ]
    }
  ],
  "metadata": {
    "kernelspec": {
      "display_name": "Python 3",
      "language": "python",
      "name": "python3"
    },
    "language_info": {
      "codemirror_mode": {
        "name": "ipython",
        "version": 3
      },
      "file_extension": ".py",
      "mimetype": "text/x-python",
      "name": "python",
      "nbconvert_exporter": "python",
      "pygments_lexer": "ipython3",
      "version": "3.11.9"
    }
  },
  "nbformat": 4,
  "nbformat_minor": 0
}