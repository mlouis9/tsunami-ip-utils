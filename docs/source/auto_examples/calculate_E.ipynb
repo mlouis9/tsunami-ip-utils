{
  "cells": [
    {
      "cell_type": "markdown",
      "metadata": {},
      "source": [
        "\n# Placeholder\n\nThis is a placeholder description\n"
      ]
    },
    {
      "cell_type": "code",
      "execution_count": null,
      "metadata": {
        "collapsed": false
      },
      "outputs": [],
      "source": [
        "# Script for recreating the global similarity parameter E\nfrom tsunami_ip_utils.comparisons import comparison\n\nif __name__ == '__main__':\n    # List of all SDF files\n    all_sdfs = [ f\"u-235-test-case/sphere_model_{i}.sdf\" for i in range(1, 9) ]\n    data = comparison(\"u-235-test-case/tsunami_ip.out\", all_sdfs, all_sdfs)\n\n    # Save data as excel spreadsheets\n    for E_type in data.keys():\n        data[E_type].to_excel(f\"{E_type}_comparison.xlsx\")"
      ]
    }
  ],
  "metadata": {
    "kernelspec": {
      "display_name": "Python 3",
      "language": "python",
      "name": "python3"
    },
    "language_info": {
      "codemirror_mode": {
        "name": "ipython",
        "version": 3
      },
      "file_extension": ".py",
      "mimetype": "text/x-python",
      "name": "python",
      "nbconvert_exporter": "python",
      "pygments_lexer": "ipython3",
      "version": "3.11.9"
    }
  },
  "nbformat": 4,
  "nbformat_minor": 0
}