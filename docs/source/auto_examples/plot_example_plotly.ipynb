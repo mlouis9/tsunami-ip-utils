{
  "cells": [
    {
      "cell_type": "markdown",
      "metadata": {},
      "source": [
        "\n# Simple Plotly Plot Example\n\nThis example demonstrates how to create a simple scatter plot using Plotly in Sphinx Gallery.\n"
      ]
    },
    {
      "cell_type": "code",
      "execution_count": null,
      "metadata": {
        "collapsed": false
      },
      "outputs": [],
      "source": [
        "# Code source: MyProject\n# License: BSD 3 clause \n\n# sphinx_gallery_thumbnail_path = '_static/boi.png'\n\nimport plotly.graph_objects as go\n\ndef simple_plotly_scatter():\n    \"\"\"\n    Generates a simple scatter plot using Plotly.\n\n    Returns:\n        fig: A Plotly figure object.\n    \"\"\"\n    # Sample data\n    x = [1, 2, 3, 4, 5]\n    y = [1, 4, 9, 16, 25]\n\n    # Create a Plotly figure\n    fig = go.Figure(\n        data=[go.Scatter(x=x, y=y, mode='markers+lines', name='Data')],\n        layout=go.Layout(\n            title='Simple Scatter Plot',\n            xaxis_title='X Axis Label',\n            yaxis_title='Y Axis Label'\n        )\n    )\n\n    # Show plot (this will not be executed in the documentation build process)\n    fig.show()\n\n    return fig"
      ]
    },
    {
      "cell_type": "markdown",
      "metadata": {},
      "source": [
        "Let's call the function and store the figure. Sphinx Gallery will use the\ncustom scraper to handle this figure object.\n\n"
      ]
    },
    {
      "cell_type": "code",
      "execution_count": null,
      "metadata": {
        "collapsed": false
      },
      "outputs": [],
      "source": [
        "fig = simple_plotly_scatter()"
      ]
    }
  ],
  "metadata": {
    "kernelspec": {
      "display_name": "Python 3",
      "language": "python",
      "name": "python3"
    },
    "language_info": {
      "codemirror_mode": {
        "name": "ipython",
        "version": 3
      },
      "file_extension": ".py",
      "mimetype": "text/x-python",
      "name": "python",
      "nbconvert_exporter": "python",
      "pygments_lexer": "ipython3",
      "version": "3.11.9"
    }
  },
  "nbformat": 4,
  "nbformat_minor": 0
}