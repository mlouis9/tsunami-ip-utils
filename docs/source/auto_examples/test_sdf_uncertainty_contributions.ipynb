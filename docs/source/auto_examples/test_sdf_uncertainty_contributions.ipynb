{
  "cells": [
    {
      "cell_type": "markdown",
      "metadata": {},
      "source": [
        "\n# Placeholder\n\nThis is a placeholder description\n"
      ]
    },
    {
      "cell_type": "code",
      "execution_count": null,
      "metadata": {
        "collapsed": false
      },
      "outputs": [],
      "source": [
        "from tsunami_ip_utils.integral_indices import get_uncertainty_contributions\nfrom pathlib import Path\n\nsdfs = [ Path(f'../3d-sphere/sphere_model_{i}.sdf') for i in range(1, 13) ]\n\ndk_over_k_nuclide_wise, dk_over_k_nuclide_reaction_wise = get_uncertainty_contributions(sdfs, sdfs)\nprint(dk_over_k_nuclide_wise['application'])"
      ]
    }
  ],
  "metadata": {
    "kernelspec": {
      "display_name": "Python 3",
      "language": "python",
      "name": "python3"
    },
    "language_info": {
      "codemirror_mode": {
        "name": "ipython",
        "version": 3
      },
      "file_extension": ".py",
      "mimetype": "text/x-python",
      "name": "python",
      "nbconvert_exporter": "python",
      "pygments_lexer": "ipython3",
      "version": "3.11.9"
    }
  },
  "nbformat": 4,
  "nbformat_minor": 0
}