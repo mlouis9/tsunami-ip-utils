{
  "cells": [
    {
      "cell_type": "markdown",
      "metadata": {},
      "source": [
        "\n# Placeholder\n\nThis is a placeholder description\n"
      ]
    },
    {
      "cell_type": "code",
      "execution_count": null,
      "metadata": {
        "collapsed": false
      },
      "outputs": [],
      "source": [
        "from tsunami_ip_utils.integral_indices import get_uncertainty_contributions\nfrom tsunami_ip_utils.viz import correlation_plot\nfrom tsunami_ip_utils.readers import read_integral_indices\n\nfilenames = [ f'../3d-sphere/sphere_model_{i}.out' for i in range(1, 13) ]\n\nindices = [0, 8]\napplication_filenames = [ filenames[index] for index in indices ]\nexperiment_filenames = [ filenames[index] for index in indices ]\n\nisotope_total, isotope_reaction = get_uncertainty_contributions(application_filenames, experiment_filenames)\n\nintegral_indices = read_integral_indices('../3d-sphere/tsunami_ip.out')\nC_k = integral_indices['C_k']\nfig = correlation_plot(isotope_reaction['application'][0], isotope_reaction['experiment'][1], plot_type='interactive_scatter', \\\n                 integral_index_name='%\u0394k/k', plot_redundant_reactions=True, interactive_legend=True)\nprint(C_k[0, 1])\nfig.show()\n# fig.save_state('test.pkl')\n# fig.write_html('uncertainty_correlation.html')"
      ]
    }
  ],
  "metadata": {
    "kernelspec": {
      "display_name": "Python 3",
      "language": "python",
      "name": "python3"
    },
    "language_info": {
      "codemirror_mode": {
        "name": "ipython",
        "version": 3
      },
      "file_extension": ".py",
      "mimetype": "text/x-python",
      "name": "python",
      "nbconvert_exporter": "python",
      "pygments_lexer": "ipython3",
      "version": "3.11.9"
    }
  },
  "nbformat": 4,
  "nbformat_minor": 0
}