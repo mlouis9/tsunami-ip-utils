{
  "cells": [
    {
      "cell_type": "markdown",
      "metadata": {},
      "source": [
        "\n# Placeholder\n\nThis is a placeholder description\n"
      ]
    },
    {
      "cell_type": "code",
      "execution_count": null,
      "metadata": {
        "collapsed": false
      },
      "outputs": [],
      "source": [
        "from tsunami_ip_utils.readers import read_uncertainty_contributions_out\nfrom tsunami_ip_utils.readers import read_uncertainty_contributions_sdf\nfrom pathlib import Path\n\nisotope_totals, isotope_reaction = read_uncertainty_contributions_out('../3d-sphere/sphere_model_9.out')\nprint(isotope_reaction)\n\nisotope_totals, isotope_reaction = read_uncertainty_contributions_sdf([Path('../3d-sphere/sphere_model_9.sdf')])\nprint(isotope_reaction[0])"
      ]
    }
  ],
  "metadata": {
    "kernelspec": {
      "display_name": "Python 3",
      "language": "python",
      "name": "python3"
    },
    "language_info": {
      "codemirror_mode": {
        "name": "ipython",
        "version": 3
      },
      "file_extension": ".py",
      "mimetype": "text/x-python",
      "name": "python",
      "nbconvert_exporter": "python",
      "pygments_lexer": "ipython3",
      "version": "3.11.9"
    }
  },
  "nbformat": 4,
  "nbformat_minor": 0
}