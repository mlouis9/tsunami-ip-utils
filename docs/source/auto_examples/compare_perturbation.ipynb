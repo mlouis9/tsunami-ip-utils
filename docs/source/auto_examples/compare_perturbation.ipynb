{
  "cells": [
    {
      "cell_type": "markdown",
      "metadata": {},
      "source": [
        "\n# Placeholder\n\nThis is a placeholder description\n"
      ]
    },
    {
      "cell_type": "code",
      "execution_count": null,
      "metadata": {
        "collapsed": false
      },
      "outputs": [],
      "source": [
        "from tsunami_ip_utils.comparisons import correlation_comparison\nfrom tsunami_ip_utils.readers import read_integral_indices\nfrom pathlib import Path\nimport numpy as np\n\n# Define the filenames for the applications and experiments\nfilenames = [\n    Path(\"/home/mlouis9/projects/suli2024/main/Matthew_VALID_sdfs/MCT/MIX-COMP-THERM-001-001.sdf\"),\n    Path(\"/home/mlouis9/projects/suli2024/main/Matthew_VALID_sdfs/MCT/MIX-COMP-THERM-001-002.sdf\"),\n    Path(\"/home/mlouis9/projects/suli2024/main/Matthew_VALID_sdfs/MCT/MIX-COMP-THERM-001-003.sdf\"),\n    Path(\"/home/mlouis9/projects/suli2024/main/Matthew_VALID_sdfs/MCT/MIX-COMP-THERM-001-004.sdf\"),\n    Path(\"/home/mlouis9/projects/suli2024/main/Matthew_VALID_sdfs/MCT/MIX-COMP-THERM-002-001S.sdf\"),\n    Path(\"/home/mlouis9/projects/suli2024/main/Matthew_VALID_sdfs/MCT/MIX-COMP-THERM-002-002S.sdf\"),\n    Path(\"/home/mlouis9/projects/suli2024/main/Matthew_VALID_sdfs/MCT/MIX-COMP-THERM-002-003S.sdf\"),\n    Path(\"/home/mlouis9/projects/suli2024/main/Matthew_VALID_sdfs/MCT/MIX-COMP-THERM-002-004S.sdf\"),\n    Path(\"/home/mlouis9/projects/suli2024/main/Matthew_VALID_sdfs/MCT/MIX-COMP-THERM-002-005S.sdf\"),\n    Path(\"/home/mlouis9/projects/suli2024/main/Matthew_VALID_sdfs/MCT/MIX-COMP-THERM-002-006S.sdf\"),\n    Path(\"/home/mlouis9/projects/suli2024/main/Matthew_VALID_sdfs/MCT/MIX-COMP-THERM-004-001.sdf\"),\n    Path(\"/home/mlouis9/projects/suli2024/main/Matthew_VALID_sdfs/MCT/MIX-COMP-THERM-004-002.sdf\"),\n    Path(\"/home/mlouis9/projects/suli2024/main/Matthew_VALID_sdfs/MCT/MIX-COMP-THERM-004-003.sdf\"),\n    Path(\"/home/mlouis9/projects/suli2024/main/Matthew_VALID_sdfs/MCT/MIX-COMP-THERM-004-004.sdf\"),\n    Path(\"/home/mlouis9/projects/suli2024/main/Matthew_VALID_sdfs/MCT/MIX-COMP-THERM-004-005.sdf\"),\n    Path(\"/home/mlouis9/projects/suli2024/main/Matthew_VALID_sdfs/MCT/MIX-COMP-THERM-004-006.sdf\"),\n    Path(\"/home/mlouis9/projects/suli2024/main/Matthew_VALID_sdfs/MCT/MIX-COMP-THERM-004-007.sdf\"),\n    Path(\"/home/mlouis9/projects/suli2024/main/Matthew_VALID_sdfs/MCT/MIX-COMP-THERM-004-008.sdf\"),\n    Path(\"/home/mlouis9/projects/suli2024/main/Matthew_VALID_sdfs/MCT/MIX-COMP-THERM-004-009.sdf\"),\n    Path(\"/home/mlouis9/projects/suli2024/main/Matthew_VALID_sdfs/MCT/MIX-COMP-THERM-004-010.sdf\"),\n    Path(\"/home/mlouis9/projects/suli2024/main/Matthew_VALID_sdfs/MCT/MIX-COMP-THERM-004-011.sdf\"),\n]\n\nindices = range(21)\nexperiment_filenames = [filenames[i] for i in indices]\napplication_filenames = [filenames[i] for i in indices]\n\n# Get the TSUNAMI-IP integral indices for the applications and experiments\nintegral_indices = read_integral_indices('/home/mlouis9/projects/suli2024/main/Matthew_VALID_sdfs/MCT/tsunami_ip.out')\nC_k = integral_indices['C_k']\nC_k = C_k[np.ix_(indices, indices)] # Slice the C_k matrix to only include the indices of interest\n\n# Define paths used for generating cross section perturbations\nmultigroup_library = Path(\"~/codes/SCALE-6.3.1/data/scale.rev01.xn252v8.0\")\nperturbation_factors = Path(\"/home/mlouis9/codes/SCALE-6.3.1/data/perturb/252n.v7.1\")\n\n# Perform the comparison\nfor num_perturbations in [200, 500, 1000]:\n    comparisons = correlation_comparison(\n        integral_index_matrix=C_k,\n        integral_index_name='c_k',\n        application_files=application_filenames, \n        experiment_files=experiment_filenames, \n        method='perturbation',\n        base_library=multigroup_library,\n        perturbation_factors=perturbation_factors,\n        num_perturbations=num_perturbations,\n        make_plot=False,\n        num_cores=2\n    )\n\n    # fig.save_state(f'results/allHMFcases/perturbation_comparison_{num_perturbations}.pkl')\n    comparisons.to_excel(f'results/MCT/perturbation_comparison_{num_perturbations}.xlsx')\n    # fig.save_state(f'results/MCT/perturbation_comparison_{num_perturbations}.pkl')"
      ]
    }
  ],
  "metadata": {
    "kernelspec": {
      "display_name": "Python 3",
      "language": "python",
      "name": "python3"
    },
    "language_info": {
      "codemirror_mode": {
        "name": "ipython",
        "version": 3
      },
      "file_extension": ".py",
      "mimetype": "text/x-python",
      "name": "python",
      "nbconvert_exporter": "python",
      "pygments_lexer": "ipython3",
      "version": "3.11.9"
    }
  },
  "nbformat": 4,
  "nbformat_minor": 0
}