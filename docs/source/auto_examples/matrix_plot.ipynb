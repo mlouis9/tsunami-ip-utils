{
  "cells": [
    {
      "cell_type": "markdown",
      "metadata": {},
      "source": [
        "\n# Placeholder\n\nThis is a placeholder description\n"
      ]
    },
    {
      "cell_type": "code",
      "execution_count": null,
      "metadata": {
        "collapsed": false
      },
      "outputs": [],
      "source": [
        "from tsunami_ip_utils.viz import correlation_plot, matrix_plot, contribution_plot\nfrom tsunami_ip_utils.integral_indices import get_uncertainty_contributions\nimport numpy as np\n\nfilenames = [ f'../3d-sphere/sphere_model_{i}.out' for i in range(1, 13) ]\n\nindices = range(12)\napplication_filenames = [ filenames[index] for index in indices ]\nexperiment_filenames = [ filenames[index] for index in indices ]\n\nisotope_total, isotope_reaction = get_uncertainty_contributions(application_filenames, experiment_filenames)\nnum_applications = len(isotope_reaction['application'])\nnum_experiments = len(isotope_reaction['experiment'])\n\n# Construct plot matrix\nplot_objects_array = np.empty( ( num_applications, num_experiments ), dtype=object )\n\nfor application_index in range(num_applications):\n    for experiment_index in range(num_experiments):\n        if experiment_index == application_index:\n            plot_objects_array[application_index, experiment_index] = \\\n            contribution_plot(\n                isotope_reaction['application'][application_index],\n                plot_type='interactive_pie',\n                integral_index_name='%\u0394k/k',\n                interactive_legend=True,     \n            )\n        else:\n            plot_objects_array[application_index, experiment_index] = \\\n            correlation_plot(\n                isotope_reaction['application'][application_index], \n                isotope_reaction['experiment'][experiment_index], \n                plot_type='interactive_scatter',\n                integral_index_name='%\u0394k/k', \n                plot_redundant_reactions=True, \n                interactive_legend=True\n            )\n\n# Now generate the matrix plot\nfig = matrix_plot(plot_objects_array, 'interactive')\nfig.save_state('results/matrix_plot_example.pkl')"
      ]
    }
  ],
  "metadata": {
    "kernelspec": {
      "display_name": "Python 3",
      "language": "python",
      "name": "python3"
    },
    "language_info": {
      "codemirror_mode": {
        "name": "ipython",
        "version": 3
      },
      "file_extension": ".py",
      "mimetype": "text/x-python",
      "name": "python",
      "nbconvert_exporter": "python",
      "pygments_lexer": "ipython3",
      "version": "3.11.9"
    }
  },
  "nbformat": 4,
  "nbformat_minor": 0
}