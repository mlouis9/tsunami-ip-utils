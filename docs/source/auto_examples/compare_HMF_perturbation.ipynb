{
  "cells": [
    {
      "cell_type": "markdown",
      "metadata": {},
      "source": [
        "\n# Placeholder\n\nThis is a placeholder description\n"
      ]
    },
    {
      "cell_type": "code",
      "execution_count": null,
      "metadata": {
        "collapsed": false
      },
      "outputs": [],
      "source": [
        "from tsunami_ip_utils.comparisons import correlation_comparison\nfrom tsunami_ip_utils.readers import read_integral_indices\nfrom pathlib import Path\nimport numpy as np\n\n# Define the filenames for the applications and experiments\nfilenames = [ Path(f'../3d-sphere/sphere_model_{i}.sdf') for i in range(1,13) ]\n\nindices = range(12)\nexperiment_filenames = [filenames[i] for i in indices]\napplication_filenames = [filenames[i] for i in indices]\n\n# Get the TSUNAMI-IP integral indices for the applications and experiments\nintegral_indices = read_integral_indices('../3d-sphere/tsunami_ip.out')\nC_k = integral_indices['C_k']\nC_k = C_k[np.ix_(indices, indices)] # Slice the C_k matrix to only include the indices of interest\n\n# Define paths used for generating cross section perturbations\nmultigroup_library = Path(\"~/codes/SCALE-6.3.1/data/scale.rev05.xn252v7.1\")\nperturbation_factors = Path(\"/home/mlouis9/codes/SCALE-6.3.1/data/perturb/252n.v7.1\")\n\n# Perform the comparison\nfor num_perturbations in [50, 200, 500, 1000]:\n    comparisons = correlation_comparison(\n        integral_index_matrix=C_k,\n        integral_index_name='c_k',\n        application_files=application_filenames, \n        experiment_files=experiment_filenames, \n        method='perturbation',\n        base_library=multigroup_library,\n        perturbation_factors=perturbation_factors,\n        num_perturbations=num_perturbations,\n        make_plot=False\n    )\n\n    # fig.save_state(f'results/allHMFcases/perturbation_comparison_{num_perturbations}.pkl')\n    comparisons.to_excel(f'results/allHMFcases/perturbation_comparison_{num_perturbations}.xlsx')"
      ]
    }
  ],
  "metadata": {
    "kernelspec": {
      "display_name": "Python 3",
      "language": "python",
      "name": "python3"
    },
    "language_info": {
      "codemirror_mode": {
        "name": "ipython",
        "version": 3
      },
      "file_extension": ".py",
      "mimetype": "text/x-python",
      "name": "python",
      "nbconvert_exporter": "python",
      "pygments_lexer": "ipython3",
      "version": "3.11.9"
    }
  },
  "nbformat": 4,
  "nbformat_minor": 0
}